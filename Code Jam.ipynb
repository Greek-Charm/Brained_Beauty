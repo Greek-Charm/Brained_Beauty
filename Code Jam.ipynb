{
 "cells": [
  {
   "cell_type": "markdown",
   "metadata": {},
   "source": [
    "                                    Vestigium"
   ]
  },
  {
   "cell_type": "code",
   "execution_count": null,
   "metadata": {},
   "outputs": [],
   "source": [
    "T=int(input())\n",
    "x=0\n",
    "r=[]\n",
    "c=[]\n",
    "k=[]\n",
    "while x<T:\n",
    "    k1=r1=c1=0\n",
    "    N=int(input())\n",
    "    x=x+1\n",
    "    M = []\n",
    "    while not M or len(M) < len(M[0]):\n",
    "        M.append(list(map(int, input().split())))\n",
    "    for i in range(N):\n",
    "        for j in range(N):\n",
    "            if i==j:\n",
    "                k1=k1+int(M[i][j])\n",
    "    k.append(k1)\n",
    "    for i in range(N):\n",
    "        for j in range(N-1):\n",
    "            if M[i][j] in M[i][j+1:N]:\n",
    "                r1=r1+1\n",
    "                break\n",
    "    r.append(r1)\n",
    "    L = [[M[j][i] for j in range(len(M))] for i in range(len(M[0]))]\n",
    "    for i in range(0,N):\n",
    "        for j in range(0,N-1):\n",
    "            if L[i][j] in L[i][j+1:N]:\n",
    "                c1=c1+1\n",
    "                break\n",
    "    c.append(c1)\n",
    "for x in range(T):\n",
    "    print(\"Case #{}: {} {} {}\".format(x+1,k[x],r[x],c[x]))\n"
   ]
  },
  {
   "cell_type": "markdown",
   "metadata": {},
   "source": [
    "                                        Nesting Depth"
   ]
  },
  {
   "cell_type": "code",
   "execution_count": null,
   "metadata": {},
   "outputs": [],
   "source": [
    "T=int(input())\n",
    "x=0\n",
    "A=[]\n",
    "while x<T:\n",
    "    x=x+1\n",
    "    r=0\n",
    "    S=[]\n",
    "    r=str(input())\n",
    "    for i in range(len(r)):\n",
    "        S.append(r[i])\n",
    "    c=int(S[0])\n",
    "    S1='('*c\n",
    "    S1= S1 + (S[0])\n",
    "    for i in range(len(S)-1):\n",
    "        if (int(S[i])-int(S[i+1])==0):\n",
    "            S1= S1 + (S[i+1])\n",
    "        elif (int(S[i])-int(S[i+1])>0):\n",
    "            S1= S1 + ')'*((int(S[i])-int(S[i+1])))\n",
    "            S1= S1 + (S[i+1])    \n",
    "            c=c-((int(S[i])-int(S[i+1])))\n",
    "        else:\n",
    "            S1= S1 + '('*((int(S[i+1])-int(S[i])))\n",
    "            c=c+((int(S[i+1])-int(S[i])))\n",
    "            #S1= S1 + '('*int(S[i+1])\n",
    "            c=int(S[i+1])\n",
    "            S1= S1 + (S[i+1])\n",
    "    S1= S1+ ')'*c\n",
    "    A.append(S1)\n",
    "for x in range(T):\n",
    "    print(\"Case #{}: {}\".format(x+1,A[x]))"
   ]
  },
  {
   "cell_type": "markdown",
   "metadata": {},
   "source": [
    "                                    Parenting Partnering Returns"
   ]
  },
  {
   "cell_type": "code",
   "execution_count": null,
   "metadata": {},
   "outputs": [],
   "source": [
    "def f(raw_arr):\n",
    "    arr=[]\n",
    "    for i in range(len(raw_arr)):\n",
    "        arr.append((raw_arr[i][0], raw_arr[i][1], i))\n",
    "    arr.sort()\n",
    "    c_end = 0\n",
    "    j_end = 0\n",
    "    res_arr = []\n",
    "    for start, end, idx in arr:\n",
    "        if start < c_end and start < j_end:\n",
    "            return \"IMPOSSIBLE\"\n",
    "        if start >= c_end:\n",
    "            res_arr.append(('C', idx))\n",
    "            c_end = end\n",
    "        else:\n",
    "            res_arr.append(('J', idx))\n",
    "            j_end = end\n",
    "    res = ''\n",
    "    for c, idx in sorted(res_arr, key=lambda x: x[1]):\n",
    "        res += c\n",
    "    return res\n",
    "T = int(input())\n",
    "for t in range(1, T + 1):\n",
    "    N = int(input())\n",
    "    arr = []\n",
    "    for _ in range(N):\n",
    "        interval = [int(s) for s in input().split(\" \")]\n",
    "        arr.append(interval)\n",
    "    res = f(arr)\n",
    "    print(\"Case #{}: {}\".format(t, res))"
   ]
  },
  {
   "cell_type": "code",
   "execution_count": null,
   "metadata": {},
   "outputs": [],
   "source": []
  }
 ],
 "metadata": {
  "kernelspec": {
   "display_name": "Python [conda env:root] *",
   "language": "python",
   "name": "conda-root-py"
  },
  "language_info": {
   "codemirror_mode": {
    "name": "ipython",
    "version": 3
   },
   "file_extension": ".py",
   "mimetype": "text/x-python",
   "name": "python",
   "nbconvert_exporter": "python",
   "pygments_lexer": "ipython3",
   "version": "3.7.4"
  }
 },
 "nbformat": 4,
 "nbformat_minor": 2
}
